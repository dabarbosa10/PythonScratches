{
 "cells": [
  {
   "cell_type": "code",
   "execution_count": 1,
   "metadata": {},
   "outputs": [],
   "source": [
    "import numpy as np\n",
    "import matplotlib.pyplot as plt\n",
    "%matplotlib inline"
   ]
  },
  {
   "cell_type": "code",
   "execution_count": 22,
   "metadata": {},
   "outputs": [],
   "source": [
    "import math\n",
    "def sinf(x,N):\n",
    "    suma=0.0\n",
    "    k=1\n",
    "    while k<=N:\n",
    "        term=((-1)**(k-1))*(x**(2*k-1))/(math.factorial(2*k-1))\n",
    "        suma=suma+term\n",
    "        k=k+1\n",
    "    return suma"
   ]
  },
  {
   "cell_type": "code",
   "execution_count": 29,
   "metadata": {},
   "outputs": [
    {
     "name": "stdout",
     "output_type": "stream",
     "text": [
      "sin(pi) = 3.3280566969799443e-16\n"
     ]
    }
   ],
   "source": [
    "print('sin(pi) =',sinf((np.pi),25))"
   ]
  },
  {
   "cell_type": "code",
   "execution_count": 30,
   "metadata": {},
   "outputs": [
    {
     "name": "stdout",
     "output_type": "stream",
     "text": [
      "[-10, 5, 0, 5, 10, 15, 20, 25, 35, 35]\n"
     ]
    }
   ],
   "source": [
    "C=[-10,5,0,5,10,15,20,25,35]\n",
    "C.append(35)\n",
    "print(C)"
   ]
  },
  {
   "cell_type": "code",
   "execution_count": 31,
   "metadata": {},
   "outputs": [
    {
     "name": "stdout",
     "output_type": "stream",
     "text": [
      "[-10, 5, 0, 5, 10, 15, 20, 25, 35, 35, 40, 45]\n"
     ]
    }
   ],
   "source": [
    "#We can add lists\n",
    "C=C+[40,45]\n",
    "#And the elements are added at the end of the list\n",
    "print(C)"
   ]
  },
  {
   "cell_type": "code",
   "execution_count": 32,
   "metadata": {},
   "outputs": [],
   "source": [
    "somelist=['book.tex','book.log','book.pdf']\n",
    "text,logfile,pdf=somelist"
   ]
  },
  {
   "cell_type": "code",
   "execution_count": 33,
   "metadata": {},
   "outputs": [
    {
     "data": {
      "text/plain": [
       "['book.tex', 'book.log', 'book.pdf']"
      ]
     },
     "execution_count": 33,
     "metadata": {},
     "output_type": "execute_result"
    }
   ],
   "source": [
    "somelist"
   ]
  },
  {
   "cell_type": "code",
   "execution_count": 35,
   "metadata": {},
   "outputs": [
    {
     "data": {
      "text/plain": [
       "'book.tex'"
      ]
     },
     "execution_count": 35,
     "metadata": {},
     "output_type": "execute_result"
    }
   ],
   "source": [
    "text"
   ]
  },
  {
   "cell_type": "code",
   "execution_count": 38,
   "metadata": {},
   "outputs": [
    {
     "name": "stdout",
     "output_type": "stream",
     "text": [
      "list element:  0\n",
      "list element:  10\n",
      "list element:  20\n",
      "list element:  40\n",
      "list element:  100\n"
     ]
    }
   ],
   "source": [
    "degrees=[0,10,20,40,100]\n",
    "for c in degrees:\n",
    "    print('list element: ', c)"
   ]
  },
  {
   "cell_type": "code",
   "execution_count": 39,
   "metadata": {},
   "outputs": [],
   "source": [
    "Fdegrees=[(9.0/.50)*c+32 for c in C]"
   ]
  },
  {
   "cell_type": "code",
   "execution_count": 40,
   "metadata": {},
   "outputs": [
    {
     "data": {
      "text/plain": [
       "[-148.0,\n",
       " 122.0,\n",
       " 32.0,\n",
       " 122.0,\n",
       " 212.0,\n",
       " 302.0,\n",
       " 392.0,\n",
       " 482.0,\n",
       " 662.0,\n",
       " 662.0,\n",
       " 752.0,\n",
       " 842.0]"
      ]
     },
     "execution_count": 40,
     "metadata": {},
     "output_type": "execute_result"
    }
   ],
   "source": [
    "Fdegrees"
   ]
  },
  {
   "cell_type": "code",
   "execution_count": 43,
   "metadata": {},
   "outputs": [
    {
     "data": {
      "text/plain": [
       "Text(0, 0.5, 'Farenheit')"
      ]
     },
     "execution_count": 43,
     "metadata": {},
     "output_type": "execute_result"
    },
    {
     "data": {
      "image/png": "[encoded data removed]",
      "text/plain": [
       "<Figure size 864x432 with 1 Axes>"
      ]
     },
     "metadata": {
      "needs_background": "light"
     },
     "output_type": "display_data"
    }
   ],
   "source": [
    "plt.figure(figsize=(12,6))\n",
    "plt.plot(C,Fdegrees,'rd-')\n",
    "plt.grid()\n",
    "plt.xlabel('Celsius')\n",
    "plt.ylabel('Farenheit')"
   ]
  },
  {
   "cell_type": "code",
   "execution_count": 45,
   "metadata": {},
   "outputs": [
    {
     "name": "stdout",
     "output_type": "stream",
     "text": [
      "  -10 -148.0\n",
      "    5 122.0\n",
      "    0  32.0\n",
      "    5 122.0\n",
      "   10 212.0\n",
      "   15 302.0\n",
      "   20 392.0\n",
      "   25 482.0\n",
      "   35 662.0\n",
      "   35 662.0\n",
      "   40 752.0\n",
      "   45 842.0\n"
     ]
    }
   ],
   "source": [
    "for i,j in zip(C,Fdegrees):\n",
    "    print('%5d %5.1f' % (i,j))"
   ]
  },
  {
   "cell_type": "code",
   "execution_count": null,
   "metadata": {},
   "outputs": [],
   "source": []
  }
 ],
 "metadata": {
  "kernelspec": {
   "display_name": "Python 3",
   "language": "python",
   "name": "python3"
  },
  "language_info": {
   "codemirror_mode": {
    "name": "ipython",
    "version": 3
   },
   "file_extension": ".py",
   "mimetype": "text/x-python",
   "name": "python",
   "nbconvert_exporter": "python",
   "pygments_lexer": "ipython3",
   "version": "3.7.4"
  }
 },
 "nbformat": 4,
 "nbformat_minor": 2
}
