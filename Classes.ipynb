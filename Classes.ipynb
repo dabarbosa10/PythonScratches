{
 "cells": [
  {
   "cell_type": "code",
   "execution_count": 1,
   "metadata": {},
   "outputs": [],
   "source": [
    "class Y:\n",
    "    def __init__(self,v0):\n",
    "        self.v0=v0\n",
    "        self.g=9.81\n",
    "    def value(self,t):\n",
    "        return self.v0*t-0.5*self.g*t**2"
   ]
  },
  {
   "cell_type": "markdown",
   "metadata": {},
   "source": [
    "An object of a user-defined class is usually called ans instance. "
   ]
  },
  {
   "cell_type": "code",
   "execution_count": 2,
   "metadata": {},
   "outputs": [],
   "source": [
    "y=Y(3)"
   ]
  },
  {
   "cell_type": "code",
   "execution_count": 3,
   "metadata": {},
   "outputs": [
    {
     "name": "stdout",
     "output_type": "stream",
     "text": [
      "<__main__.Y instance at 0x10451c5f0>\n"
     ]
    }
   ],
   "source": [
    "print(y)"
   ]
  },
  {
   "cell_type": "code",
   "execution_count": 4,
   "metadata": {},
   "outputs": [],
   "source": [
    "v=y.value(0.1)"
   ]
  },
  {
   "cell_type": "code",
   "execution_count": 5,
   "metadata": {},
   "outputs": [
    {
     "data": {
      "text/plain": [
       "0.25095"
      ]
     },
     "execution_count": 5,
     "metadata": {},
     "output_type": "execute_result"
    }
   ],
   "source": [
    "v"
   ]
  },
  {
   "cell_type": "markdown",
   "metadata": {},
   "source": [
    "To access functions and variables in a class, we must prefix the function and variable names by the names of the instance and a dot.  The value function is reached as y.value, and the variables are reached as y.v0 and y.g"
   ]
  },
  {
   "cell_type": "markdown",
   "metadata": {},
   "source": [
    "We can print the value of v0 in the instance y by writing "
   ]
  },
  {
   "cell_type": "code",
   "execution_count": 6,
   "metadata": {},
   "outputs": [
    {
     "name": "stdout",
     "output_type": "stream",
     "text": [
      "3\n"
     ]
    }
   ],
   "source": [
    "print(y.v0)"
   ]
  },
  {
   "cell_type": "code",
   "execution_count": 7,
   "metadata": {},
   "outputs": [],
   "source": [
    "y=Y(6)"
   ]
  },
  {
   "cell_type": "code",
   "execution_count": 8,
   "metadata": {},
   "outputs": [
    {
     "name": "stdout",
     "output_type": "stream",
     "text": [
      "<__main__.Y instance at 0x104543f80>\n"
     ]
    }
   ],
   "source": [
    "print(y)"
   ]
  },
  {
   "cell_type": "code",
   "execution_count": 9,
   "metadata": {},
   "outputs": [],
   "source": [
    "v=y.value(0.1)"
   ]
  },
  {
   "cell_type": "code",
   "execution_count": 10,
   "metadata": {},
   "outputs": [
    {
     "data": {
      "text/plain": [
       "0.55095"
      ]
     },
     "execution_count": 10,
     "metadata": {},
     "output_type": "execute_result"
    }
   ],
   "source": [
    "v"
   ]
  },
  {
   "cell_type": "markdown",
   "metadata": {},
   "source": [
    "Functions in classes are commonly called methods, and variables are called attributes. The class Y has two methods __init__ and value, and two attributes, $v0$ and $g$"
   ]
  },
  {
   "cell_type": "code",
   "execution_count": 11,
   "metadata": {},
   "outputs": [],
   "source": [
    "class Y1:\n",
    "    def __init__(self,v0):\n",
    "        self.v0=v0\n",
    "        self.g=9.8\n",
    "    def value(self,t):\n",
    "        return self.v0*t-0.5*self.g*t**2\n",
    "    def formula(self):\n",
    "        return 'v0*t -0.5*g*t**2; v0=%g' % self.v0"
   ]
  },
  {
   "cell_type": "code",
   "execution_count": 13,
   "metadata": {},
   "outputs": [
    {
     "name": "stdout",
     "output_type": "stream",
     "text": [
      "y(t=0.2;v0=5)=0.804\n",
      "v0*t -0.5*g*t**2; v0=5\n"
     ]
    }
   ],
   "source": [
    "y=Y1(5)\n",
    "t=0.2\n",
    "v=y.value(t)\n",
    "print 'y(t=%g;v0=%g)=%g' %(t,y.v0,v)\n",
    "print y.formula()"
   ]
  },
  {
   "cell_type": "code",
   "execution_count": 14,
   "metadata": {},
   "outputs": [],
   "source": [
    "class Y1:\n",
    "    \"\"\"\n",
    "    Mathematical function for the vertical motion of a ball\n",
    "    \n",
    "    Methods:\n",
    "         Constructor(v0): set initial velocity v0.\n",
    "         value(t): compute the height as function of t.\n",
    "         formula(): print out the formula for the height.\n",
    "    Attributes:\n",
    "        v0: the inicial velocity of the ball (time 0).\n",
    "        g:acceleration of gravity (fixed).\n",
    "    Usage:\n",
    "    >>>y=Y(3)\n",
    "    >>>position1=y.value(0.1)\n",
    "    >>>position2=y.value(0.3)\n",
    "    >>>print y.formula()\n",
    "    v0*t-0.5*g*t**2; v0=3\n",
    "    \"\"\""
   ]
  },
  {
   "cell_type": "markdown",
   "metadata": {},
   "source": [
    "A fluid that flows through a pipe has zero velocity on the pipe wall and a maximum velocity along the centerline of the pipe. The velocity $v$ varies through the pipe cross section according to the following formula:\n",
    "$v(r)= \\left( \\frac{\\beta}{2\\mu_0}\\right) \\frac{n}{n+1}\\left( R^{l+1/n}-r^{l+1/n}\\right) $"
   ]
  },
  {
   "cell_type": "markdown",
   "metadata": {},
   "source": [
    "Where $R$ is the radius of the pipe, $\\beta$ is the pressure gradient, $\\mu_0$ es a viscosity coefficient, $n$ is a real number reflecting the viscous properties of the fluid and $r$ is a radial coordinate that measures the distances from the centerline"
   ]
  },
  {
   "cell_type": "markdown",
   "metadata": {},
   "source": [
    "We may write this function as $v(r;\\beta, \\mu_0,n,R)$ to indicate that there is a one primary independent variable $r$ and four physical parameters $(\\beta, \\mu_0,n,R)$. The class typically holds the physical parameters as variables and provides an value(r) method for computing the $v$ function "
   ]
  },
  {
   "cell_type": "code",
   "execution_count": 25,
   "metadata": {},
   "outputs": [],
   "source": [
    "class VelocityProfile:\n",
    "    def __init__(self,beta,mu0,n,R):\n",
    "        self.beta,self.mu0,self.n,self.R=beta,mu0,n,R\n",
    "    def value(self,r):\n",
    "        beta,mu0,n,R=self.beta,self.mu0,self.n,self.R\n",
    "        n=float(n)\n",
    "        v=(beta/(2*mu0))**(1/n)*(n/(n+1))*(R**(1+1/n)-r**(1+1/n))\n",
    "        return v"
   ]
  },
  {
   "cell_type": "code",
   "execution_count": 26,
   "metadata": {},
   "outputs": [],
   "source": [
    "import numpy as np\n",
    "import matplotlib.pyplot as plt\n",
    "%matplotlib inline"
   ]
  },
  {
   "cell_type": "code",
   "execution_count": 27,
   "metadata": {},
   "outputs": [],
   "source": [
    "v1=VelocityProfile(R=1,beta=0.06,mu0=0.02,n=0.1)\n",
    "r=np.linspace(0,1,50)\n",
    "v=v1.value(r)"
   ]
  },
  {
   "cell_type": "code",
   "execution_count": 28,
   "metadata": {},
   "outputs": [
    {
     "data": {
      "text/plain": [
       "<function matplotlib.pyplot.show>"
      ]
     },
     "execution_count": 28,
     "metadata": {},
     "output_type": "execute_result"
    },
    {
     "data": {
      "image/png": "[encoded data removed]",
      "text/plain": [
       "<Figure size 432x288 with 1 Axes>"
      ]
     },
     "metadata": {},
     "output_type": "display_data"
    }
   ],
   "source": [
    "plt.plot(r,v,label='Velocity Profile')\n",
    "plt.xlabel('r')\n",
    "plt.ylabel('v(r)')\n",
    "plt.legend()\n",
    "plt.show"
   ]
  },
  {
   "cell_type": "markdown",
   "metadata": {},
   "source": [
    "Bank Accounts:\n",
    "\n",
    "The account has some data, typically the name of the accound holder, the account number, and the current balance. Three things we can do with an account is withdraw money, put money into the account, and print out the data of the account. These actions are modeled by methods. With a class we can pack the data and the actions together into a new data type."
   ]
  },
  {
   "cell_type": "code",
   "execution_count": 44,
   "metadata": {},
   "outputs": [],
   "source": [
    "class Account:\n",
    "    def __init__(self, name, account_number, initial_amount):\n",
    "        self.name=name\n",
    "        self.ao=account_number\n",
    "        self.balance=initial_amount\n",
    "    def deposit(self,amount):\n",
    "        self.balance+=amount\n",
    "    def withdraw(self,amount):\n",
    "        self.balance-=amount\n",
    "    def dump(self):\n",
    "        s='%s,%s,balance:%s' %(self.name,self.ao,self.balance)\n",
    "        print s"
   ]
  },
  {
   "cell_type": "code",
   "execution_count": 45,
   "metadata": {},
   "outputs": [],
   "source": [
    "a1=Account('John Olsson','19345838238',20000)\n",
    "a2=Account('Liz Olsson','19345838236',20000)"
   ]
  },
  {
   "cell_type": "code",
   "execution_count": 46,
   "metadata": {},
   "outputs": [],
   "source": [
    "a1.deposit(1000)\n",
    "a1.withdraw(4000)\n",
    "a2.withdraw(10500)\n",
    "a1.withdraw(3500)"
   ]
  },
  {
   "cell_type": "code",
   "execution_count": 47,
   "metadata": {},
   "outputs": [
    {
     "name": "stdout",
     "output_type": "stream",
     "text": [
      "13500\n"
     ]
    }
   ],
   "source": [
    "print (a1.balance)"
   ]
  },
  {
   "cell_type": "code",
   "execution_count": 48,
   "metadata": {},
   "outputs": [
    {
     "name": "stdout",
     "output_type": "stream",
     "text": [
      "John Olsson,19345838238,balance:13500\n"
     ]
    }
   ],
   "source": [
    "a1.dump()"
   ]
  },
  {
   "cell_type": "markdown",
   "metadata": {},
   "source": [
    "Geometric figures, such as a circlem are other candidates for classes in a program. A circle is uniquely defined by its center point $(x_0, y_0)$ and its radius $R$. "
   ]
  },
  {
   "cell_type": "code",
   "execution_count": 66,
   "metadata": {},
   "outputs": [],
   "source": [
    "class Circle:\n",
    "    def __init__(self, x0,y0,R):\n",
    "        self.x0=x0\n",
    "        self.y0=y0\n",
    "        self.R=R\n",
    "    def area(self):\n",
    "        return 3.1416*self.R**2\n",
    "    def circumference(self):\n",
    "        return 2*3.1416*self.R"
   ]
  },
  {
   "cell_type": "code",
   "execution_count": 67,
   "metadata": {},
   "outputs": [],
   "source": [
    "c=Circle(2,-1,5)"
   ]
  },
  {
   "cell_type": "code",
   "execution_count": 68,
   "metadata": {},
   "outputs": [
    {
     "data": {
      "text/plain": [
       "2"
      ]
     },
     "execution_count": 68,
     "metadata": {},
     "output_type": "execute_result"
    }
   ],
   "source": [
    "c.x0\n"
   ]
  },
  {
   "cell_type": "code",
   "execution_count": 69,
   "metadata": {},
   "outputs": [
    {
     "data": {
      "text/plain": [
       "-1"
      ]
     },
     "execution_count": 69,
     "metadata": {},
     "output_type": "execute_result"
    }
   ],
   "source": [
    "c.y0"
   ]
  },
  {
   "cell_type": "code",
   "execution_count": 71,
   "metadata": {},
   "outputs": [
    {
     "data": {
      "text/plain": [
       "78.53999999999999"
      ]
     },
     "execution_count": 71,
     "metadata": {},
     "output_type": "execute_result"
    }
   ],
   "source": [
    "c.area()"
   ]
  },
  {
   "cell_type": "code",
   "execution_count": 72,
   "metadata": {},
   "outputs": [
    {
     "data": {
      "text/plain": [
       "31.416"
      ]
     },
     "execution_count": 72,
     "metadata": {},
     "output_type": "execute_result"
    }
   ],
   "source": [
    "c.circumference()"
   ]
  },
  {
   "cell_type": "code",
   "execution_count": null,
   "metadata": {},
   "outputs": [],
   "source": []
  }
 ],
 "metadata": {
  "kernelspec": {
   "display_name": "Python 2",
   "language": "python",
   "name": "python2"
  },
  "language_info": {
   "codemirror_mode": {
    "name": "ipython",
    "version": 2
   },
   "file_extension": ".py",
   "mimetype": "text/x-python",
   "name": "python",
   "nbconvert_exporter": "python",
   "pygments_lexer": "ipython2",
   "version": "2.7.15"
  }
 },
 "nbformat": 4,
 "nbformat_minor": 2
}
