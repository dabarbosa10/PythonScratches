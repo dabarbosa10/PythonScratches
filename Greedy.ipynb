{
 "cells": [
  {
   "cell_type": "code",
   "execution_count": 1,
   "metadata": {},
   "outputs": [],
   "source": [
    "import numpy as np\n",
    "import matplotlib.pyplot as plt\n",
    "%matplotlib inline"
   ]
  },
  {
   "cell_type": "code",
   "execution_count": 39,
   "metadata": {},
   "outputs": [],
   "source": [
    "class Food(object):\n",
    "    def __init__(self,n,v,w): #name of the food, value and weight\n",
    "        self.name=n\n",
    "        self.value=v\n",
    "        self.calories=w\n",
    "    def getValue(self):\n",
    "        return self.value\n",
    "    def getCost(self):\n",
    "        return self.calories\n",
    "    def density(self):\n",
    "        return self.getValue()/self.getCost()\n",
    "    def __str__(self):\n",
    "        return self.name + ':<' + str(self.value) + ',' + srt(self.calores)+'>'"
   ]
  },
  {
   "cell_type": "code",
   "execution_count": 25,
   "metadata": {},
   "outputs": [],
   "source": [
    "def buildMenu(names,values,calories):\n",
    "    menu=[]\n",
    "    for i in range(len(values)):\n",
    "        menu.append(Food(names[i],values[i],calories[i]))\n",
    "    return menu"
   ]
  },
  {
   "cell_type": "code",
   "execution_count": 26,
   "metadata": {},
   "outputs": [],
   "source": [
    "def greedy(items, maxCost,keyFunction):\n",
    "    \"\"\"Assumes items a list, maxCost>=0 \n",
    "       keyFuntion as elements of items to numbers \"\"\"\n",
    "    itemsCopy=sorted(items,key=keyFunction,reverse=True) #Lists\n",
    "    result=[]\n",
    "    totalValue,totalCost=0.0,0.0\n",
    "    for i in range(len(itemsCopy)):\n",
    "        if (totalCost+itemsCopy[i].getCost()) <=maxCost:\n",
    "            result.append(itemsCopy[i])\n",
    "            totalCost+=itemsCopy[i].getCost()\n",
    "            totalValue+=itemsCopy[i].getValue()\n",
    "    return (result,totalValue)"
   ]
  },
  {
   "cell_type": "code",
   "execution_count": 27,
   "metadata": {},
   "outputs": [],
   "source": [
    "def testGreedy(items, constraint, keyFunction):\n",
    "    taken,val=greedy(items,constraint,keyFunction)\n",
    "    print('Total value pf items taken =',val)\n",
    "    for item in taken:\n",
    "        print('  ',item)"
   ]
  },
  {
   "cell_type": "code",
   "execution_count": 28,
   "metadata": {},
   "outputs": [
    {
     "data": {
      "text/plain": [
       "3"
      ]
     },
     "execution_count": 28,
     "metadata": {},
     "output_type": "execute_result"
    }
   ],
   "source": [
    "f1=lambda x:x\n",
    "f1(3)"
   ]
  },
  {
   "cell_type": "code",
   "execution_count": 29,
   "metadata": {},
   "outputs": [
    {
     "data": {
      "text/plain": [
       "'Ana'"
      ]
     },
     "execution_count": 29,
     "metadata": {},
     "output_type": "execute_result"
    }
   ],
   "source": [
    "f1('Ana')"
   ]
  },
  {
   "cell_type": "code",
   "execution_count": 30,
   "metadata": {},
   "outputs": [
    {
     "data": {
      "text/plain": [
       "5"
      ]
     },
     "execution_count": 30,
     "metadata": {},
     "output_type": "execute_result"
    }
   ],
   "source": [
    "f2= lambda x,y: x+y\n",
    "f2(2,3)"
   ]
  },
  {
   "cell_type": "code",
   "execution_count": 31,
   "metadata": {},
   "outputs": [
    {
     "data": {
      "text/plain": [
       "'AnaBell'"
      ]
     },
     "execution_count": 31,
     "metadata": {},
     "output_type": "execute_result"
    }
   ],
   "source": [
    "f2('Ana','Bell')  #Add to strings"
   ]
  },
  {
   "cell_type": "code",
   "execution_count": 32,
   "metadata": {},
   "outputs": [],
   "source": [
    "f3=lambda x,y: 'factor' if (x%y ==0) else 'not factor'"
   ]
  },
  {
   "cell_type": "code",
   "execution_count": 33,
   "metadata": {},
   "outputs": [
    {
     "data": {
      "text/plain": [
       "'factor'"
      ]
     },
     "execution_count": 33,
     "metadata": {},
     "output_type": "execute_result"
    }
   ],
   "source": [
    "f3(4,2)"
   ]
  },
  {
   "cell_type": "code",
   "execution_count": 34,
   "metadata": {},
   "outputs": [
    {
     "data": {
      "text/plain": [
       "'not factor'"
      ]
     },
     "execution_count": 34,
     "metadata": {},
     "output_type": "execute_result"
    }
   ],
   "source": [
    "f3(4,3)"
   ]
  },
  {
   "cell_type": "code",
   "execution_count": 35,
   "metadata": {},
   "outputs": [],
   "source": [
    "def testGreedys(foods,maxUnits):\n",
    "    print('Use greedy by value to allocate',maxUnits,'calories')\n",
    "    testGreedy(foods, maxUnits,Food.getValue)\n",
    "    print('\\n Use greedy by cost to allocate',maxUnits,'calories')\n",
    "    testGreedy(foods,maxUnits, lambda x: 1/Food.getCost(x) )\n",
    "    print('\\n Use greedy by density to allocate', maxUnits,'calories')\n",
    "    testGreedy(foods,maxUnits,Food.density)"
   ]
  },
  {
   "cell_type": "code",
   "execution_count": 36,
   "metadata": {},
   "outputs": [],
   "source": [
    "names=['wine','beer','pizza','burger','fries','cola','apple','donut','cake']\n",
    "values=[89,90,95,100,90,79,50,10]\n",
    "calories=[123,154,258,354,365,150,95,195]"
   ]
  },
  {
   "cell_type": "code",
   "execution_count": 37,
   "metadata": {},
   "outputs": [],
   "source": [
    "foods=(names,values,calories)"
   ]
  },
  {
   "cell_type": "code",
   "execution_count": 47,
   "metadata": {},
   "outputs": [],
   "source": [
    "class Item(object):\n",
    "    def __init__(self, n, v, w):\n",
    "         self.name = n\n",
    "         self.value = float(v)\n",
    "         self.weight = float(w)\n",
    "    def getName(self):\n",
    "        return self.name\n",
    "    def getValue(self):\n",
    "        return self.value\n",
    "    def getWeight(self):\n",
    "        return self.weight\n",
    "    def __str__(self):\n",
    "        result = '<' + self.name + ', ' + str(self.value) + ', ' + str(self.weight) + '>'\n",
    "        return result\n",
    "    \n",
    "def weightInverse(item):\n",
    "    return 1.0/item.getWeight()\n",
    "\n",
    "def density(item):\n",
    "    return item.getValue()/item.getWeight()\n",
    "\n",
    "def buildItems():\n",
    "    names = ['clock', 'painting', 'radio', 'vase', 'book', 'computer']\n",
    "    vals = [175,90,20,50,10,200]\n",
    "    weights = [10,9,4,2,1,20]\n",
    "    Items = []\n",
    "    for i in range(len(vals)):\n",
    "        Items.append(Item(names[i], vals[i], weights[i]))\n",
    "    return Items\n",
    "\n",
    "def greedy(Items, maxWeight, keyFcn):\n",
    "    assert type(Items) == list and maxWeight >= 0\n",
    "    ItemsCopy = sorted(Items, key=keyFcn, reverse = True)\n",
    "    result = []\n",
    "    totalVal = 0.0\n",
    "    totalWeight = 0.0\n",
    "    i = 0\n",
    "    while totalWeight < maxWeight and i < len(Items):\n",
    "        if (totalWeight + ItemsCopy[i].getWeight()) <= maxWeight:\n",
    "            result.append((ItemsCopy[i]))\n",
    "            totalWeight += ItemsCopy[i].getWeight()\n",
    "            totalVal += ItemsCopy[i].getValue()\n",
    "            i += 1\n",
    "    return (result, totalVal)\n",
    "\n",
    "def testGreedy(Items, constraint, getKey):\n",
    "    taken, val = greedy(Items, constraint, getKey)\n",
    "    print ('Total value of items taken = ' + str(val))\n",
    "    for item in taken:\n",
    "        print (item) \n",
    "        \n",
    "def testGreedys():\n",
    "    Items = buildItems()\n",
    "    print('Items to choose from:')\n",
    "    for item in Items:\n",
    "        print(item)\n",
    "    testGreedy(Items, 20, Item.getValue)\n",
    "    #testGreedy(Items, 20, weightInverse)\n",
    "    #testGreedy(Items, 20, density)"
   ]
  },
  {
   "cell_type": "code",
   "execution_count": 48,
   "metadata": {},
   "outputs": [
    {
     "name": "stdout",
     "output_type": "stream",
     "text": [
      "Items to choose from:\n",
      "<clock, 175.0, 10.0>\n",
      "<painting, 90.0, 9.0>\n",
      "<radio, 20.0, 4.0>\n",
      "<vase, 50.0, 2.0>\n",
      "<book, 10.0, 1.0>\n",
      "<computer, 200.0, 20.0>\n",
      "Total value of items taken = 200.0\n",
      "<computer, 200.0, 20.0>\n"
     ]
    }
   ],
   "source": [
    "testGreedys()"
   ]
  },
  {
   "cell_type": "code",
   "execution_count": null,
   "metadata": {},
   "outputs": [],
   "source": []
  }
 ],
 "metadata": {
  "kernelspec": {
   "display_name": "Python 3",
   "language": "python",
   "name": "python3"
  },
  "language_info": {
   "codemirror_mode": {
    "name": "ipython",
    "version": 3
   },
   "file_extension": ".py",
   "mimetype": "text/x-python",
   "name": "python",
   "nbconvert_exporter": "python",
   "pygments_lexer": "ipython3",
   "version": "3.7.4"
  }
 },
 "nbformat": 4,
 "nbformat_minor": 2
}
