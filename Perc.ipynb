{
 "cells": [
  {
   "cell_type": "code",
   "execution_count": 1,
   "metadata": {},
   "outputs": [],
   "source": [
    "import matplotlib.pyplot as plt\n",
    "import numpy as np\n",
    "%matplotlib inline"
   ]
  },
  {
   "cell_type": "code",
   "execution_count": 34,
   "metadata": {},
   "outputs": [
    {
     "name": "stdout",
     "output_type": "stream",
     "text": [
      "[[ 0.56573993 -0.43268435]\n",
      " [-0.48601379 -0.45016581]\n",
      " [ 0.31350763  0.54594098]\n",
      " [-2.73489763  1.72593154]\n",
      " [-1.02476113  1.55280526]\n",
      " [ 1.16166749  0.0883893 ]\n",
      " [ 0.10943827  0.99751939]\n",
      " [ 1.71153757  0.20833448]\n",
      " [ 1.47670226 -0.80832099]\n",
      " [ 1.3390783  -0.33083035]]\n"
     ]
    }
   ],
   "source": [
    "a=np.random.randn(10,2)\n",
    "print(a)"
   ]
  },
  {
   "cell_type": "code",
   "execution_count": 35,
   "metadata": {},
   "outputs": [],
   "source": [
    "def con(x1):\n",
    "    s=x1.shape[0]\n",
    "    s1=np.ones(s).reshape(-1,1)\n",
    "    return np.concatenate((s1,x1),axis=1)"
   ]
  },
  {
   "cell_type": "code",
   "execution_count": 36,
   "metadata": {},
   "outputs": [
    {
     "name": "stdout",
     "output_type": "stream",
     "text": [
      "[[ 1.          1.          1.          1.          1.          1.\n",
      "   1.          1.          1.          1.        ]\n",
      " [ 0.56573993 -0.48601379  0.31350763 -2.73489763 -1.02476113  1.16166749\n",
      "   0.10943827  1.71153757  1.47670226  1.3390783 ]\n",
      " [-0.43268435 -0.45016581  0.54594098  1.72593154  1.55280526  0.0883893\n",
      "   0.99751939  0.20833448 -0.80832099 -0.33083035]]\n"
     ]
    }
   ],
   "source": [
    "matcon=con(a)\n",
    "matr=matcon.T\n",
    "print(matr)"
   ]
  },
  {
   "cell_type": "code",
   "execution_count": 37,
   "metadata": {},
   "outputs": [
    {
     "name": "stdout",
     "output_type": "stream",
     "text": [
      "(10,)\n"
     ]
    }
   ],
   "source": [
    "w=np.random.randn(matr.shape[1])\n",
    "print(w.shape)"
   ]
  },
  {
   "cell_type": "code",
   "execution_count": 53,
   "metadata": {},
   "outputs": [],
   "source": [
    "def multy(w,x):\n",
    "    y=np.dot(x,w)\n",
    "    return y"
   ]
  },
  {
   "cell_type": "code",
   "execution_count": 54,
   "metadata": {},
   "outputs": [],
   "source": [
    "dopro=multy(w,matr)"
   ]
  },
  {
   "cell_type": "code",
   "execution_count": 42,
   "metadata": {},
   "outputs": [
    {
     "name": "stdout",
     "output_type": "stream",
     "text": [
      "[[ 1.          0.56573993 -0.43268435]\n",
      " [ 1.         -0.48601379 -0.45016581]\n",
      " [ 1.          0.31350763  0.54594098]\n",
      " [ 1.         -2.73489763  1.72593154]\n",
      " [ 1.         -1.02476113  1.55280526]\n",
      " [ 1.          1.16166749  0.0883893 ]\n",
      " [ 1.          0.10943827  0.99751939]\n",
      " [ 1.          1.71153757  0.20833448]\n",
      " [ 1.          1.47670226 -0.80832099]\n",
      " [ 1.          1.3390783  -0.33083035]]\n"
     ]
    }
   ],
   "source": [
    "print(matcon)"
   ]
  },
  {
   "cell_type": "code",
   "execution_count": 43,
   "metadata": {},
   "outputs": [
    {
     "data": {
      "text/plain": [
       "array([-0.38987679,  2.92445164,  0.36746294,  0.18684205,  1.45205313,\n",
       "        0.89430891, -0.74261575, -0.48411464, -1.72993216, -0.44890875])"
      ]
     },
     "execution_count": 43,
     "metadata": {},
     "output_type": "execute_result"
    }
   ],
   "source": [
    "w"
   ]
  },
  {
   "cell_type": "code",
   "execution_count": 44,
   "metadata": {},
   "outputs": [
    {
     "data": {
      "text/plain": [
       "array([ 2.0296706 , -6.55237181,  2.41431991])"
      ]
     },
     "execution_count": 44,
     "metadata": {},
     "output_type": "execute_result"
    }
   ],
   "source": [
    "dopro"
   ]
  },
  {
   "cell_type": "code",
   "execution_count": 45,
   "metadata": {},
   "outputs": [
    {
     "data": {
      "text/plain": [
       "array([-0.38987679,  2.92445164,  0.36746294,  0.18684205,  1.45205313,\n",
       "        0.89430891, -0.74261575, -0.48411464, -1.72993216, -0.44890875])"
      ]
     },
     "execution_count": 45,
     "metadata": {},
     "output_type": "execute_result"
    }
   ],
   "source": [
    "w"
   ]
  },
  {
   "cell_type": "code",
   "execution_count": 55,
   "metadata": {},
   "outputs": [
    {
     "data": {
      "text/plain": [
       "array([ 2.0296706 , -6.55237181,  2.41431991])"
      ]
     },
     "execution_count": 55,
     "metadata": {},
     "output_type": "execute_result"
    }
   ],
   "source": [
    "dopro"
   ]
  },
  {
   "cell_type": "code",
   "execution_count": 56,
   "metadata": {},
   "outputs": [],
   "source": [
    "import numpy as np\n",
    "import matplotlib.pyplot as plt\n",
    "import pandas as pd\n",
    "%matplotlib inline"
   ]
  },
  {
   "cell_type": "code",
   "execution_count": 57,
   "metadata": {},
   "outputs": [
    {
     "data": {
      "text/html": [
       "<div>\n",
       "<style scoped>\n",
       "    .dataframe tbody tr th:only-of-type {\n",
       "        vertical-align: middle;\n",
       "    }\n",
       "\n",
       "    .dataframe tbody tr th {\n",
       "        vertical-align: top;\n",
       "    }\n",
       "\n",
       "    .dataframe thead th {\n",
       "        text-align: right;\n",
       "    }\n",
       "</style>\n",
       "<table border=\"1\" class=\"dataframe\">\n",
       "  <thead>\n",
       "    <tr style=\"text-align: right;\">\n",
       "      <th></th>\n",
       "      <th>0</th>\n",
       "      <th>1</th>\n",
       "      <th>2</th>\n",
       "      <th>3</th>\n",
       "      <th>4</th>\n",
       "    </tr>\n",
       "  </thead>\n",
       "  <tbody>\n",
       "    <tr>\n",
       "      <td>0</td>\n",
       "      <td>5.1</td>\n",
       "      <td>3.5</td>\n",
       "      <td>1.4</td>\n",
       "      <td>0.2</td>\n",
       "      <td>Iris-setosa</td>\n",
       "    </tr>\n",
       "    <tr>\n",
       "      <td>1</td>\n",
       "      <td>4.9</td>\n",
       "      <td>3.0</td>\n",
       "      <td>1.4</td>\n",
       "      <td>0.2</td>\n",
       "      <td>Iris-setosa</td>\n",
       "    </tr>\n",
       "    <tr>\n",
       "      <td>2</td>\n",
       "      <td>4.7</td>\n",
       "      <td>3.2</td>\n",
       "      <td>1.3</td>\n",
       "      <td>0.2</td>\n",
       "      <td>Iris-setosa</td>\n",
       "    </tr>\n",
       "    <tr>\n",
       "      <td>3</td>\n",
       "      <td>4.6</td>\n",
       "      <td>3.1</td>\n",
       "      <td>1.5</td>\n",
       "      <td>0.2</td>\n",
       "      <td>Iris-setosa</td>\n",
       "    </tr>\n",
       "    <tr>\n",
       "      <td>4</td>\n",
       "      <td>5.0</td>\n",
       "      <td>3.6</td>\n",
       "      <td>1.4</td>\n",
       "      <td>0.2</td>\n",
       "      <td>Iris-setosa</td>\n",
       "    </tr>\n",
       "  </tbody>\n",
       "</table>\n",
       "</div>"
      ],
      "text/plain": [
       "     0    1    2    3            4\n",
       "0  5.1  3.5  1.4  0.2  Iris-setosa\n",
       "1  4.9  3.0  1.4  0.2  Iris-setosa\n",
       "2  4.7  3.2  1.3  0.2  Iris-setosa\n",
       "3  4.6  3.1  1.5  0.2  Iris-setosa\n",
       "4  5.0  3.6  1.4  0.2  Iris-setosa"
      ]
     },
     "execution_count": 57,
     "metadata": {},
     "output_type": "execute_result"
    }
   ],
   "source": [
    "datair=pd.read_csv('iris.data',header=None,encoding='utf-8')\n",
    "datair.head()"
   ]
  },
  {
   "cell_type": "code",
   "execution_count": 58,
   "metadata": {},
   "outputs": [
    {
     "data": {
      "image/png": "[encoded data removed]",
      "text/plain": [
       "<Figure size 432x288 with 1 Axes>"
      ]
     },
     "metadata": {
      "needs_background": "light"
     },
     "output_type": "display_data"
    }
   ],
   "source": [
    "# select setosa and versicolor\n",
    "y = datair.iloc[0:100, 4].values\n",
    "y = np.where(y == 'Iris-setosa', -1, 1)\n",
    "\n",
    "X = datair.iloc[0:100, [0, 2]].values\n",
    "\n",
    "plt.scatter(X[:50, 0], X[:50, 1],\n",
    "            color='red', marker='o', label='setosa')\n",
    "plt.scatter(X[50:100, 0], X[50:100, 1],\n",
    "            color='blue', marker='x', label='versicolor')\n",
    "\n",
    "plt.xlabel('sepal length [cm]')\n",
    "plt.ylabel('petal length [cm]')\n",
    "plt.legend(loc='upper left')\n",
    "\n",
    "plt.show()"
   ]
  },
  {
   "cell_type": "code",
   "execution_count": 86,
   "metadata": {},
   "outputs": [],
   "source": [
    "X1=con(X)"
   ]
  },
  {
   "cell_type": "code",
   "execution_count": 87,
   "metadata": {},
   "outputs": [
    {
     "name": "stdout",
     "output_type": "stream",
     "text": [
      "(3,)\n"
     ]
    }
   ],
   "source": [
    "w=np.random.randn(X1.shape[1])\n",
    "print(w.shape)"
   ]
  },
  {
   "cell_type": "code",
   "execution_count": 76,
   "metadata": {},
   "outputs": [
    {
     "data": {
      "text/plain": [
       "(100, 3)"
      ]
     },
     "execution_count": 76,
     "metadata": {},
     "output_type": "execute_result"
    }
   ],
   "source": [
    "X1.shape"
   ]
  },
  {
   "cell_type": "code",
   "execution_count": 77,
   "metadata": {},
   "outputs": [
    {
     "name": "stdout",
     "output_type": "stream",
     "text": [
      "[-2.57255557 -2.43721827 -2.21376384 -2.32232945 -2.50488692 -3.0399129\n",
      " -2.23421232 -2.59300405 -2.09887502 -2.5253354  -2.86367865 -2.54578388\n",
      " -2.36954962 -1.76685498 -2.87000186 -3.06668459 -2.68744439 -2.57255557\n",
      " -3.24291885 -2.6606727  -3.0399129  -2.6606727  -1.8817438  -2.83690696\n",
      " -2.81013527 -2.68112118 -2.68112118 -2.72834135 -2.64022422 -2.47811523\n",
      " -2.54578388 -2.86367865 -2.72834135 -2.84323017 -2.5253354  -2.32865266\n",
      " -2.75511304 -2.5253354  -2.01075789 -2.6606727  -2.41676979 -2.07842654\n",
      " -2.01075789 -2.68112118 -3.01314121 -2.36954962 -2.74878983 -2.23421232\n",
      " -2.79601    -2.50488692 -6.76612518 -6.18387902 -6.87469079 -5.13427553\n",
      " -6.3396648  -5.71019848 -6.29244463 -4.11144373 -6.40733345 -4.84315245\n",
      " -4.35534664 -5.58118439 -5.47261878 -6.15710733 -4.84947566 -6.29876784\n",
      " -5.64252983 -5.42539861 -6.04854172 -5.11382705 -6.10988716 -5.54028743\n",
      " -6.46867889 -6.15710733 -6.00764476 -6.23109919 -6.71890501 -6.82747062\n",
      " -5.91320442 -4.82902718 -4.95804127 -4.86992414 -5.24916435 -6.4419072\n",
      " -5.50719253 -5.91320442 -6.56311923 -6.02809324 -5.29006131 -5.13427553\n",
      " -5.48674405 -6.0689902  -5.33728148 -4.17911238 -5.37817844 -5.44584709\n",
      " -5.44584709 -5.87230747 -3.98242964 -5.35772996]\n"
     ]
    }
   ],
   "source": [
    "acts=np.dot(X1,w)\n",
    "print(acts)"
   ]
  },
  {
   "cell_type": "code",
   "execution_count": 80,
   "metadata": {},
   "outputs": [],
   "source": [
    "def act(x):\n",
    "    for i in range(len(x)):\n",
    "        if x[i]>=0:\n",
    "            x[i]=1\n",
    "        else:\n",
    "            x[i]=-1\n",
    "    return x\n",
    "            "
   ]
  },
  {
   "cell_type": "code",
   "execution_count": 92,
   "metadata": {},
   "outputs": [
    {
     "data": {
      "text/plain": [
       "(100,)"
      ]
     },
     "execution_count": 92,
     "metadata": {},
     "output_type": "execute_result"
    }
   ],
   "source": [
    "act(acts).shape"
   ]
  },
  {
   "cell_type": "code",
   "execution_count": null,
   "metadata": {},
   "outputs": [],
   "source": []
  }
 ],
 "metadata": {
  "kernelspec": {
   "display_name": "Python 3",
   "language": "python",
   "name": "python3"
  },
  "language_info": {
   "codemirror_mode": {
    "name": "ipython",
    "version": 3
   },
   "file_extension": ".py",
   "mimetype": "text/x-python",
   "name": "python",
   "nbconvert_exporter": "python",
   "pygments_lexer": "ipython3",
   "version": "3.7.4"
  }
 },
 "nbformat": 4,
 "nbformat_minor": 2
}
