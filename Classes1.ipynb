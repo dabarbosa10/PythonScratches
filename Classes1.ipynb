{
 "cells": [
  {
   "cell_type": "code",
   "execution_count": 1,
   "metadata": {},
   "outputs": [],
   "source": [
    "import numpy as np\n",
    "import matplotlib.pyplot as plt\n",
    "%matplotlib inline"
   ]
  },
  {
   "cell_type": "code",
   "execution_count": 2,
   "metadata": {},
   "outputs": [],
   "source": [
    "temps1={'Oslo':13,'London':15.4, 'Paris':17.5}\n",
    "#Another way to create a dictionary is\n",
    "temps2=dict(Oslo=13,London=15.4, Paris=17.5)"
   ]
  },
  {
   "cell_type": "code",
   "execution_count": 3,
   "metadata": {},
   "outputs": [],
   "source": [
    "#Including new data point\n",
    "temps2['Madrid']=26.0"
   ]
  },
  {
   "cell_type": "code",
   "execution_count": 4,
   "metadata": {},
   "outputs": [
    {
     "name": "stdout",
     "output_type": "stream",
     "text": [
      "{'Oslo': 13, 'London': 15.4, 'Paris': 17.5, 'Madrid': 26.0}\n"
     ]
    }
   ],
   "source": [
    "print(temps2)"
   ]
  },
  {
   "cell_type": "code",
   "execution_count": 9,
   "metadata": {},
   "outputs": [
    {
     "name": "stdout",
     "output_type": "stream",
     "text": [
      "The temperature in Oslo is 13 in Celsius\n",
      "The temperature in London is 15.4 in Celsius\n",
      "The temperature in Paris is 17.5 in Celsius\n",
      "The temperature in Madrid is 26 in Celsius\n"
     ]
    }
   ],
   "source": [
    "for city in temps2:\n",
    "    print('The temperature in %s is %g in Celsius' % (city,temps2[city]))"
   ]
  },
  {
   "cell_type": "code",
   "execution_count": 11,
   "metadata": {},
   "outputs": [
    {
     "name": "stdout",
     "output_type": "stream",
     "text": [
      "No temperature data for Berlin\n"
     ]
    }
   ],
   "source": [
    "if 'Berlin' in temps2:\n",
    "    print('Berlin:', temps2['Berlin'])\n",
    "else:\n",
    "    print('No temperature data for Berlin')"
   ]
  },
  {
   "cell_type": "code",
   "execution_count": 12,
   "metadata": {},
   "outputs": [
    {
     "data": {
      "text/plain": [
       "dict_keys(['Oslo', 'London', 'Paris', 'Madrid'])"
      ]
     },
     "execution_count": 12,
     "metadata": {},
     "output_type": "execute_result"
    }
   ],
   "source": [
    "# To get the keys and its values we perform the following operations\n",
    "temps2.keys()"
   ]
  },
  {
   "cell_type": "code",
   "execution_count": 14,
   "metadata": {},
   "outputs": [
    {
     "data": {
      "text/plain": [
       "dict_values([13, 15.4, 17.5, 26.0])"
      ]
     },
     "execution_count": 14,
     "metadata": {},
     "output_type": "execute_result"
    }
   ],
   "source": [
    "temps2.values()"
   ]
  },
  {
   "cell_type": "code",
   "execution_count": 16,
   "metadata": {},
   "outputs": [
    {
     "data": {
      "text/plain": [
       "['London', 'Madrid', 'Oslo', 'Paris']"
      ]
     },
     "execution_count": 16,
     "metadata": {},
     "output_type": "execute_result"
    }
   ],
   "source": [
    "sorted(temps2)"
   ]
  },
  {
   "cell_type": "code",
   "execution_count": 18,
   "metadata": {},
   "outputs": [
    {
     "name": "stdout",
     "output_type": "stream",
     "text": [
      "London\n",
      "Madrid\n",
      "Oslo\n",
      "Paris\n"
     ]
    }
   ],
   "source": [
    "for i in sorted(temps2):\n",
    "    print(i)"
   ]
  },
  {
   "cell_type": "markdown",
   "metadata": {},
   "source": [
    "Consider the polynomial $p(x)=-1+x^{2}+3x^{7}$.\n",
    "\n",
    "And lets create a dictionary"
   ]
  },
  {
   "cell_type": "code",
   "execution_count": 20,
   "metadata": {},
   "outputs": [],
   "source": [
    "p={0:-1,2:1,7:3}"
   ]
  },
  {
   "cell_type": "code",
   "execution_count": 22,
   "metadata": {},
   "outputs": [],
   "source": [
    "def eval_poly_dict(poly,x):\n",
    "    sum1=0.0\n",
    "    for power in poly:\n",
    "        sum1+=poly[power]*x**power\n",
    "    return sum1"
   ]
  },
  {
   "cell_type": "code",
   "execution_count": 35,
   "metadata": {},
   "outputs": [
    {
     "data": {
      "text/plain": [
       "6569.0"
      ]
     },
     "execution_count": 35,
     "metadata": {},
     "output_type": "execute_result"
    }
   ],
   "source": [
    "eval_poly_dict(p,3)"
   ]
  },
  {
   "cell_type": "code",
   "execution_count": 30,
   "metadata": {},
   "outputs": [
    {
     "name": "stdout",
     "output_type": "stream",
     "text": [
      "0 -1\n",
      "2 1\n",
      "7 3\n"
     ]
    }
   ],
   "source": [
    "for i in p:\n",
    "    print(i,p[i])"
   ]
  },
  {
   "cell_type": "code",
   "execution_count": 33,
   "metadata": {},
   "outputs": [],
   "source": [
    "def eval_poly_dict2(poly,x):\n",
    "    return sum([poly[power]*x**power for power in poly])"
   ]
  },
  {
   "cell_type": "code",
   "execution_count": 36,
   "metadata": {},
   "outputs": [
    {
     "data": {
      "text/plain": [
       "6569"
      ]
     },
     "execution_count": 36,
     "metadata": {},
     "output_type": "execute_result"
    }
   ],
   "source": [
    "eval_poly_dict2(p,3)"
   ]
  },
  {
   "cell_type": "code",
   "execution_count": 46,
   "metadata": {},
   "outputs": [],
   "source": [
    "class Y:\n",
    "    def __init__(self, v0):\n",
    "        self.v0 = v0\n",
    "        self.g = 9.81\n",
    "    def value(self, t):\n",
    "        return self.v0*t - 0.5*self.g*t**2\n",
    "    def formula(self):\n",
    "        return 'v0*t-0.5*g*t**2; v0=%g' % self.v0"
   ]
  },
  {
   "cell_type": "code",
   "execution_count": 40,
   "metadata": {},
   "outputs": [],
   "source": [
    "y=Y(3)"
   ]
  },
  {
   "cell_type": "code",
   "execution_count": 43,
   "metadata": {},
   "outputs": [
    {
     "name": "stdout",
     "output_type": "stream",
     "text": [
      "0.25095\n"
     ]
    }
   ],
   "source": [
    "#with the instance t, we can compute the value y(t=0.1;v0=3) by\n",
    "y1=y.value(0.1)\n",
    "print(y1)"
   ]
  },
  {
   "cell_type": "code",
   "execution_count": 44,
   "metadata": {},
   "outputs": [
    {
     "name": "stdout",
     "output_type": "stream",
     "text": [
      "3\n"
     ]
    }
   ],
   "source": [
    "print(y.v0)"
   ]
  },
  {
   "cell_type": "code",
   "execution_count": 49,
   "metadata": {},
   "outputs": [
    {
     "name": "stdout",
     "output_type": "stream",
     "text": [
      "y(t=0.2;v0=5)=0.8038\n",
      "v0*t-0.5*g*t**2; v0=5\n"
     ]
    }
   ],
   "source": [
    "y=Y(5)\n",
    "t=0.2\n",
    "v=y.value(t)\n",
    "print('y(t=%g;v0=%g)=%g' %(t,y.v0,v))\n",
    "print(y.formula())"
   ]
  },
  {
   "cell_type": "code",
   "execution_count": 50,
   "metadata": {},
   "outputs": [],
   "source": [
    "class Y(object):\n",
    "    \"\"\"Mathemathical function for the vertical motion of a ball\n",
    "    \n",
    "    Methods:\n",
    "        Constructor(v0):set the initial velocity v0.\n",
    "        value(t):compute the height as a function of t.\n",
    "        formula(): print out the formula for the height.\n",
    "    Atributes:\n",
    "        v0:the initial velocity of the ball (time 0)\n",
    "        g:acceleration of the gravity(fixed)\n",
    "    Usage:\n",
    "        y=Y(3) #initialize the initial velocity\n",
    "        position1=y.value(0.1) at time=0.1s\n",
    "        print y.formula()\n",
    "    \"\"\"\n",
    "    def __init__(self, v0):\n",
    "        self.v0 = v0\n",
    "        self.g = 9.81\n",
    "    def value(self, t):\n",
    "        return self.v0*t - 0.5*self.g*t**2\n",
    "    def formula(self):\n",
    "        return 'v0*t-0.5*g*t**2; v0=%g' % self.v0"
   ]
  },
  {
   "cell_type": "code",
   "execution_count": 53,
   "metadata": {},
   "outputs": [
    {
     "name": "stdout",
     "output_type": "stream",
     "text": [
      "v0*t-0.5*g*t**2; v0=3\n"
     ]
    }
   ],
   "source": [
    "y=Y(3)\n",
    "pos1=y.value(0.1)\n",
    "print(y.formula())"
   ]
  },
  {
   "cell_type": "code",
   "execution_count": 54,
   "metadata": {},
   "outputs": [
    {
     "name": "stdout",
     "output_type": "stream",
     "text": [
      "0.25095\n"
     ]
    }
   ],
   "source": [
    "print(pos1)"
   ]
  },
  {
   "cell_type": "code",
   "execution_count": 58,
   "metadata": {},
   "outputs": [],
   "source": [
    "class V(object):\n",
    "    def __init__(self, beta, mu0, n, R):\n",
    "        self.beta, self.mu0, self.n, self.R = beta, mu0, n, R\n",
    "    def value(self, r):\n",
    "        beta, mu0, n, R = self.beta, self.mu0, self.n, self.R\n",
    "        n = float(n) # ensure float divisions\n",
    "        v = (beta/(2.0*mu0))**(1/n)*(n/(n+1))*\\\n",
    "        (R**(1+1/n) - r**(1+1/n))\n",
    "        return v"
   ]
  },
  {
   "cell_type": "code",
   "execution_count": 60,
   "metadata": {},
   "outputs": [],
   "source": [
    "v1=V(0.2,1,5,3)"
   ]
  },
  {
   "cell_type": "code",
   "execution_count": 63,
   "metadata": {},
   "outputs": [
    {
     "data": {
      "text/plain": [
       "1.4392099269247294"
      ]
     },
     "execution_count": 63,
     "metadata": {},
     "output_type": "execute_result"
    }
   ],
   "source": [
    "v1.value(1)"
   ]
  },
  {
   "cell_type": "code",
   "execution_count": 65,
   "metadata": {},
   "outputs": [],
   "source": [
    "class Account(object):\n",
    "    def __init__(self,name,account_number,initial_amount):\n",
    "        self.name=name\n",
    "        self.no=account_number\n",
    "        self.balance=initial_amount\n",
    "    def deposit(self,amount):\n",
    "        self.balance+=amount\n",
    "    def withdraw(self,amount):\n",
    "        self.balance-=amount\n",
    "    def dump(self):\n",
    "        s='%s %s, balance: %s' % (self.name,self.no,self.balance)\n",
    "        print(s)"
   ]
  },
  {
   "cell_type": "code",
   "execution_count": 68,
   "metadata": {},
   "outputs": [],
   "source": [
    "a1=Account('John Olsson','19371554951',20000)\n",
    "a2=Account('Liz Olsson','19371564791',20000)"
   ]
  },
  {
   "cell_type": "code",
   "execution_count": 69,
   "metadata": {},
   "outputs": [
    {
     "name": "stdout",
     "output_type": "stream",
     "text": [
      "a1's balance:  13500\n"
     ]
    }
   ],
   "source": [
    "a1.deposit(1000)\n",
    "a1.withdraw(4000)\n",
    "a2.withdraw(10500)\n",
    "a1.withdraw(3500)\n",
    "print(\"a1's balance: \",a1.balance)"
   ]
  },
  {
   "cell_type": "code",
   "execution_count": 70,
   "metadata": {},
   "outputs": [
    {
     "name": "stdout",
     "output_type": "stream",
     "text": [
      "John Olsson 19371554951, balance: 13500\n"
     ]
    }
   ],
   "source": [
    "a1.dump()"
   ]
  },
  {
   "cell_type": "code",
   "execution_count": 75,
   "metadata": {},
   "outputs": [],
   "source": [
    "#Class circle\n",
    "#A circle is uniquely define by its center point (x0,y0) and its radius R\n",
    "#We can collect these three numbers as data attributes in a class\n",
    "#The values of x0,y0 are initialized in the constructor.\n",
    "#We are going to implement other methods such as area and circumference\n",
    "class Circle(object):\n",
    "    def __init__(self, x0,y0,R):\n",
    "        self.x0=x0\n",
    "        self.y0=y0\n",
    "        self.R=R\n",
    "    def area(self):\n",
    "        R=self.R\n",
    "        a=np.pi*R**2\n",
    "        return a\n",
    "    def circumference(self):\n",
    "        R=self.R\n",
    "        cir=2*np.pi*R\n",
    "        return cir"
   ]
  },
  {
   "cell_type": "code",
   "execution_count": 76,
   "metadata": {},
   "outputs": [],
   "source": [
    "circle=Circle(2,3,5)"
   ]
  },
  {
   "cell_type": "code",
   "execution_count": 77,
   "metadata": {},
   "outputs": [
    {
     "data": {
      "text/plain": [
       "78.53981633974483"
      ]
     },
     "execution_count": 77,
     "metadata": {},
     "output_type": "execute_result"
    }
   ],
   "source": [
    "circle.area()"
   ]
  },
  {
   "cell_type": "code",
   "execution_count": 78,
   "metadata": {},
   "outputs": [
    {
     "data": {
      "text/plain": [
       "31.41592653589793"
      ]
     },
     "execution_count": 78,
     "metadata": {},
     "output_type": "execute_result"
    }
   ],
   "source": [
    "circle.circumference()"
   ]
  },
  {
   "cell_type": "code",
   "execution_count": 81,
   "metadata": {},
   "outputs": [
    {
     "name": "stdout",
     "output_type": "stream",
     "text": [
      "A circle with radius  5 at (2,3) has area 78.5398\n"
     ]
    }
   ],
   "source": [
    "print('A circle with radius % g at (%g,%g) has area %g' %(circle.R,circle.x0,circle.y0, circle.area())) "
   ]
  },
  {
   "cell_type": "markdown",
   "metadata": {},
   "source": [
    "Compute the derivative of a function with the basic formula:\n",
    "\n",
    "$f'(x)=\\frac{f(x+h)-f(x)}{h}$"
   ]
  },
  {
   "cell_type": "code",
   "execution_count": 85,
   "metadata": {},
   "outputs": [],
   "source": [
    "class Derivative(object):\n",
    "    def __init__(self,f,h=1E-5):\n",
    "        self.f=f\n",
    "        self.h=float(h)\n",
    "    def __call__(self,x):\n",
    "        f,h=self.f,self.h\n",
    "        return((f(x+h)-f(x))/h)"
   ]
  },
  {
   "cell_type": "code",
   "execution_count": 90,
   "metadata": {},
   "outputs": [
    {
     "data": {
      "text/plain": [
       "-0.9999999999898844"
      ]
     },
     "execution_count": 90,
     "metadata": {},
     "output_type": "execute_result"
    }
   ],
   "source": [
    "x=np.pi\n",
    "df=Derivative(np.sin)\n",
    "df(x)"
   ]
  },
  {
   "cell_type": "code",
   "execution_count": 100,
   "metadata": {},
   "outputs": [],
   "source": [
    "class Gravity(object):\n",
    "    \"\"\"Gravity force between two physical objects.\"\"\"\n",
    "    def __init__(self, m, M):\n",
    "        self.m = m # mass of object 1\n",
    "        self.M = M # mass of object 2\n",
    "        self.G = 6.67428E-11 # gravity constant, m**3/kg/s**2\n",
    "    def force(self, r):\n",
    "        G, m, M = self.G, self.m, self.M\n",
    "        return G*m*M/r**2\n",
    "    def visualize(self, r_start, r_stop, n=100):\n",
    "        r = np.linspace(r_start, r_stop, n)\n",
    "        g = self.force(r)\n",
    "        #title=’Gravity force: m=%g, M=%g’ % (self.m, self.M)\n",
    "        plt.plot(r, g)"
   ]
  },
  {
   "cell_type": "code",
   "execution_count": 101,
   "metadata": {},
   "outputs": [],
   "source": [
    "mass_moon = 7.35E+22; mass_earth = 5.97E+24\n",
    "gravity = Gravity(mass_moon, mass_earth)"
   ]
  },
  {
   "cell_type": "code",
   "execution_count": 102,
   "metadata": {},
   "outputs": [
    {
     "name": "stdout",
     "output_type": "stream",
     "text": [
      "force: 1.975807517355372e+20\n"
     ]
    }
   ],
   "source": [
    "r = 3.85E+8 # Earth-Moon distance in meters\n",
    "Fg = gravity.force(r)\n",
    "print('force:', Fg)"
   ]
  },
  {
   "cell_type": "code",
   "execution_count": 103,
   "metadata": {},
   "outputs": [
    {
     "data": {
      "image/png": "[encoded data removed]",
      "text/plain": [
       "<Figure size 432x288 with 1 Axes>"
      ]
     },
     "metadata": {
      "needs_background": "light"
     },
     "output_type": "display_data"
    }
   ],
   "source": [
    "gravity.visualize(10,100)"
   ]
  },
  {
   "cell_type": "code",
   "execution_count": null,
   "metadata": {},
   "outputs": [],
   "source": []
  }
 ],
 "metadata": {
  "kernelspec": {
   "display_name": "Python 3",
   "language": "python",
   "name": "python3"
  },
  "language_info": {
   "codemirror_mode": {
    "name": "ipython",
    "version": 3
   },
   "file_extension": ".py",
   "mimetype": "text/x-python",
   "name": "python",
   "nbconvert_exporter": "python",
   "pygments_lexer": "ipython3",
   "version": "3.7.4"
  }
 },
 "nbformat": 4,
 "nbformat_minor": 2
}
